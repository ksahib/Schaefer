{
 "cells": [
  {
   "cell_type": "code",
   "execution_count": 1,
   "id": "bff5982d",
   "metadata": {},
   "outputs": [],
   "source": [
    "from bs4 import BeautifulSoup\n",
    "import requests\n",
    "from urllib.parse import urljoin\n"
   ]
  },
  {
   "cell_type": "code",
   "execution_count": 3,
   "id": "1d30adee",
   "metadata": {},
   "outputs": [
    {
     "name": "stdout",
     "output_type": "stream",
     "text": [
      "FOUND 98's of links\n"
     ]
    }
   ],
   "source": [
    "base_url=\"https://openmusictheory.github.io/\"\n",
    "TOC_URL = \"https://openmusictheory.github.io/contents.html\"\n",
    "\n",
    "def get_chapter_links():\n",
    "    res=requests.get(TOC_URL)\n",
    "    soup=BeautifulSoup(res.text,\"html.parser\")\n",
    "\n",
    "    links=[]\n",
    "    for a in soup.select(\"a[href]\"):\n",
    "        href=a[\"href\"]\n",
    "        if href.endswith(\"html\") and not href.startswith(\"http\"):\n",
    "            full_url=urljoin(base_url,href)\n",
    "            links.append(full_url)\n",
    "\n",
    "    return links\n",
    "\n",
    "all_links=get_chapter_links()\n",
    "print(f\"FOUND {len(all_links)}'s of links\")"
   ]
  },
  {
   "cell_type": "code",
   "execution_count": 4,
   "id": "511bd002",
   "metadata": {},
   "outputs": [],
   "source": [
    "def get_text(url):\n",
    "    res=requests.get(url)\n",
    "    soup=BeautifulSoup(res.text,\"html.parser\")\n",
    "\n",
    "    main=soup.find(\"article\")\n",
    "    if not main:\n",
    "        main=soup.find(\"body\")\n",
    "\n",
    "    return main.get_text(\"\\n\",strip=True)"
   ]
  },
  {
   "cell_type": "code",
   "execution_count": 6,
   "id": "1b8ef4da",
   "metadata": {},
   "outputs": [],
   "source": [
    "import os\n",
    "\n",
    "# Ensure the directory exists\n",
    "os.makedirs(\"omt_texts\", exist_ok=True)\n",
    "\n",
    "for url in all_links:\n",
    "    try:\n",
    "        text = get_text(url)\n",
    "        filename = url.split(\"/\")[-1].replace(\".html\", \"\") + \".txt\"\n",
    "        filepath = os.path.join(\"omt_texts\", filename)\n",
    "        with open(filepath, \"w\", encoding=\"utf-8\") as f:\n",
    "            f.write(text)\n",
    "    except Exception as e:\n",
    "        print(f\"Error scraping {url}: {e}\")\n"
   ]
  }
 ],
 "metadata": {
  "kernelspec": {
   "display_name": "Python 3",
   "language": "python",
   "name": "python3"
  },
  "language_info": {
   "codemirror_mode": {
    "name": "ipython",
    "version": 3
   },
   "file_extension": ".py",
   "mimetype": "text/x-python",
   "name": "python",
   "nbconvert_exporter": "python",
   "pygments_lexer": "ipython3",
   "version": "3.12.6"
  }
 },
 "nbformat": 4,
 "nbformat_minor": 5
}
